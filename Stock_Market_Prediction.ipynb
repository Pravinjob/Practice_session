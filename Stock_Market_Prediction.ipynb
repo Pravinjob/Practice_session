{
  "nbformat": 4,
  "nbformat_minor": 0,
  "metadata": {
    "colab": {
      "name": "Stock Market Prediction (1).ipynb",
      "provenance": []
    },
    "kernelspec": {
      "display_name": "Python 3",
      "language": "python",
      "name": "python3"
    },
    "language_info": {
      "codemirror_mode": {
        "name": "ipython",
        "version": 3
      },
      "file_extension": ".py",
      "mimetype": "text/x-python",
      "name": "python",
      "nbconvert_exporter": "python",
      "pygments_lexer": "ipython3",
      "version": "3.7.6"
    }
  },
  "cells": [
    {
      "cell_type": "code",
      "metadata": {
        "colab": {
          "base_uri": "https://localhost:8080/"
        },
        "id": "9jYuQ_Y-_8Hn",
        "outputId": "d4c882ee-e4ab-47dd-ca05-b04a232830f3"
      },
      "source": [
        "!pip intsall wfdb"
      ],
      "execution_count": null,
      "outputs": [
        {
          "output_type": "stream",
          "text": [
            "ERROR: unknown command \"intsall\" - maybe you meant \"install\"\n"
          ],
          "name": "stdout"
        }
      ]
    },
    {
      "cell_type": "code",
      "metadata": {
        "id": "94iVZhhN_5AN"
      },
      "source": [
        "%matplotlib notebook\n",
        "import mpld3\n",
        "mpld3.enable_notebook()"
      ],
      "execution_count": null,
      "outputs": []
    },
    {
      "cell_type": "code",
      "metadata": {
        "id": "lzsTNVsw_5AV"
      },
      "source": [
        "import numpy as np\n",
        "import pandas as pd\n",
        "import matplotlib.pyplot as plt\n",
        "import scipy.io\n",
        "import json\n",
        "# %matplotlib inline    "
      ],
      "execution_count": null,
      "outputs": []
    },
    {
      "cell_type": "markdown",
      "metadata": {
        "id": "iEByoDbW_5AX"
      },
      "source": [
        "# <font size = 3> API Key for AAL data is: 0QMTOMP77P89LZHU"
      ]
    },
    {
      "cell_type": "code",
      "metadata": {
        "id": "YjL2dNxu_5AY"
      },
      "source": [
        "symbol = '0QMTOMP77P89LZHU'"
      ],
      "execution_count": null,
      "outputs": []
    },
    {
      "cell_type": "code",
      "metadata": {
        "id": "ywMLGiDn_5Aa"
      },
      "source": [
        "from urllib.request import urlretrieve\n",
        "import os.path\n",
        "\n",
        "def read_data(file_path, feature_names, target_classes):\n",
        "    total_columns = feature_names + target_classes\n",
        "    data = pd.read_csv(file_path, names = total_columns)\n",
        "    return data\n",
        "\n",
        "def extract_to_folder(url, file_path):  \n",
        "    ''' url: archieved data url (string)\n",
        "        feature_names: feature names (list)\n",
        "        target_classes: target (list)'''\n",
        "    if not os.path.isfile(file_path):\n",
        "        urlretrieve(url, file_path)\n",
        "        print('data is extracted to folder: {}'.format(file_path))"
      ],
      "execution_count": null,
      "outputs": []
    },
    {
      "cell_type": "code",
      "metadata": {
        "id": "uSpHklid_5Ab"
      },
      "source": [
        "api_key = '0QMTOMP77P89LZHU'\n",
        "\n",
        "# American Airlines stock market prices\n",
        "ticker = \"AAL\""
      ],
      "execution_count": null,
      "outputs": []
    },
    {
      "cell_type": "code",
      "metadata": {
        "colab": {
          "base_uri": "https://localhost:8080/"
        },
        "id": "VEGjIKA-_5Ad",
        "scrolled": true,
        "outputId": "b1a2b233-c320-4e6d-e0c2-b8770a899030"
      },
      "source": [
        "url = \"https://www.alphavantage.co/query?function=TIME_SERIES_DAILY&symbol=%s&outputsize=full&apikey=%s\"%(ticker,api_key)\n",
        "file_path = 'D:\\Data analysis\\__results___files'\n",
        "feat_names = ['Date','Low','High','Close','Open']\n",
        "target_names = []\n",
        "extract_to_folder(url, file_path)"
      ],
      "execution_count": null,
      "outputs": [
        {
          "output_type": "stream",
          "text": [
            "data is extracted to folder: D:\\Data analysis\\__results___files\n"
          ],
          "name": "stdout"
        }
      ]
    },
    {
      "cell_type": "code",
      "metadata": {
        "id": "Wr8f4s65_5Ae",
        "scrolled": true
      },
      "source": [
        "data = json.load(open(file_path, 'r'))\n",
        "# extract stock market data\n",
        "data = data['Time Series (Daily)']"
      ],
      "execution_count": null,
      "outputs": []
    },
    {
      "cell_type": "code",
      "metadata": {
        "id": "mfWVzN0J_5Af"
      },
      "source": [
        ""
      ],
      "execution_count": null,
      "outputs": []
    },
    {
      "cell_type": "code",
      "metadata": {
        "id": "FDmK-BD2_5Ag",
        "scrolled": true
      },
      "source": [
        "import datetime as dt\n",
        "df = pd.DataFrame(columns=['date','open','high','low','close','volume'])\n",
        "for k,v in data.items():\n",
        "    date = dt.datetime.strptime(k, '%Y-%m-%d')\n",
        "    data_row = [date.date(),float(v['1. open']),float(v['2. high']),\n",
        "                float(v['3. low']),float(v['4. close']), float(v['5. volume'])]\n",
        "    df.loc[-1,:] = data_row\n",
        "    df.index = df.index + 1\n",
        "# print('Data saved to : %s'%file_to_save)        \n",
        "# df.to_csv(file_to_save)"
      ],
      "execution_count": null,
      "outputs": []
    },
    {
      "cell_type": "code",
      "metadata": {
        "colab": {
          "base_uri": "https://localhost:8080/",
          "height": 204
        },
        "id": "NXHesL0V_5Ah",
        "outputId": "d5a30333-754a-4a7c-b0f1-e0ce21422e37"
      },
      "source": [
        "df.head(5)"
      ],
      "execution_count": null,
      "outputs": [
        {
          "output_type": "execute_result",
          "data": {
            "text/html": [
              "<div>\n",
              "<style scoped>\n",
              "    .dataframe tbody tr th:only-of-type {\n",
              "        vertical-align: middle;\n",
              "    }\n",
              "\n",
              "    .dataframe tbody tr th {\n",
              "        vertical-align: top;\n",
              "    }\n",
              "\n",
              "    .dataframe thead th {\n",
              "        text-align: right;\n",
              "    }\n",
              "</style>\n",
              "<table border=\"1\" class=\"dataframe\">\n",
              "  <thead>\n",
              "    <tr style=\"text-align: right;\">\n",
              "      <th></th>\n",
              "      <th>date</th>\n",
              "      <th>open</th>\n",
              "      <th>high</th>\n",
              "      <th>low</th>\n",
              "      <th>close</th>\n",
              "      <th>volume</th>\n",
              "    </tr>\n",
              "  </thead>\n",
              "  <tbody>\n",
              "    <tr>\n",
              "      <th>3972</th>\n",
              "      <td>2021-07-09</td>\n",
              "      <td>20.79</td>\n",
              "      <td>21</td>\n",
              "      <td>20.5</td>\n",
              "      <td>20.89</td>\n",
              "      <td>2.17309e+07</td>\n",
              "    </tr>\n",
              "    <tr>\n",
              "      <th>3971</th>\n",
              "      <td>2021-07-08</td>\n",
              "      <td>19.88</td>\n",
              "      <td>20.64</td>\n",
              "      <td>19.655</td>\n",
              "      <td>20.35</td>\n",
              "      <td>2.85393e+07</td>\n",
              "    </tr>\n",
              "    <tr>\n",
              "      <th>3970</th>\n",
              "      <td>2021-07-07</td>\n",
              "      <td>20.79</td>\n",
              "      <td>21.05</td>\n",
              "      <td>20.17</td>\n",
              "      <td>20.31</td>\n",
              "      <td>3.0857e+07</td>\n",
              "    </tr>\n",
              "    <tr>\n",
              "      <th>3969</th>\n",
              "      <td>2021-07-06</td>\n",
              "      <td>21.5</td>\n",
              "      <td>21.79</td>\n",
              "      <td>20.86</td>\n",
              "      <td>21.01</td>\n",
              "      <td>2.41765e+07</td>\n",
              "    </tr>\n",
              "    <tr>\n",
              "      <th>3968</th>\n",
              "      <td>2021-07-02</td>\n",
              "      <td>21.615</td>\n",
              "      <td>21.65</td>\n",
              "      <td>21.11</td>\n",
              "      <td>21.48</td>\n",
              "      <td>2.08679e+07</td>\n",
              "    </tr>\n",
              "  </tbody>\n",
              "</table>\n",
              "</div>"
            ],
            "text/plain": [
              "            date    open   high     low  close       volume\n",
              "3972  2021-07-09   20.79     21    20.5  20.89  2.17309e+07\n",
              "3971  2021-07-08   19.88  20.64  19.655  20.35  2.85393e+07\n",
              "3970  2021-07-07   20.79  21.05   20.17  20.31   3.0857e+07\n",
              "3969  2021-07-06    21.5  21.79   20.86  21.01  2.41765e+07\n",
              "3968  2021-07-02  21.615  21.65   21.11  21.48  2.08679e+07"
            ]
          },
          "metadata": {
            "tags": []
          },
          "execution_count": 16
        }
      ]
    },
    {
      "cell_type": "markdown",
      "metadata": {
        "id": "dGxunDMU_5Ai"
      },
      "source": [
        "# <font size = 2> Note: data in pandas has shown from index end to start which is in opposite manner."
      ]
    },
    {
      "cell_type": "code",
      "metadata": {
        "id": "51pYYgbV_5Aj",
        "scrolled": true
      },
      "source": [
        "stk_data = df.drop([\"date\",\"volume\"], axis = 1)"
      ],
      "execution_count": null,
      "outputs": []
    },
    {
      "cell_type": "code",
      "metadata": {
        "id": "0e_MwQXo_5Ak"
      },
      "source": [
        "from sklearn.preprocessing import MinMaxScaler\n",
        "mm_scalar = MinMaxScaler()\n",
        "stk_norm_data = mm_scalar.fit_transform(stk_data)"
      ],
      "execution_count": null,
      "outputs": []
    },
    {
      "cell_type": "markdown",
      "metadata": {
        "id": "sD6E06taNrQs"
      },
      "source": [
        "stk_norm_data =stk_data.to_numpy()/min_max\n",
        "stk_norm_data =stk_norm_data.astype('float32')"
      ]
    },
    {
      "cell_type": "code",
      "metadata": {
        "colab": {
          "base_uri": "https://localhost:8080/"
        },
        "id": "NeyGwpRfAw9v",
        "outputId": "f2e309a3-df8c-48d4-a96d-adebdd1b092f"
      },
      "source": [
        "stk_norm_data"
      ],
      "execution_count": null,
      "outputs": [
        {
          "output_type": "execute_result",
          "data": {
            "text/plain": [
              "array([[0.31170964, 0.30976486, 0.31461602, 0.31263278],\n",
              "       [0.29676466, 0.30388635, 0.30066061, 0.30380781],\n",
              "       [0.31170964, 0.31058132, 0.30916598, 0.30315411],\n",
              "       ...,\n",
              "       [0.30530465, 0.3029066 , 0.30800991, 0.30151986],\n",
              "       [0.28723928, 0.30209014, 0.29314616, 0.30625919],\n",
              "       [0.31597964, 0.31629654, 0.29149463, 0.28664815]])"
            ]
          },
          "metadata": {
            "tags": []
          },
          "execution_count": 75
        }
      ]
    },
    {
      "cell_type": "code",
      "metadata": {
        "colab": {
          "base_uri": "https://localhost:8080/",
          "height": 375
        },
        "id": "u2Wqjks6_5Al",
        "outputId": "66c3a75c-d136-48fa-9c94-2bf63b664bca"
      },
      "source": [
        "plt.figure(figsize = (10,5))\n",
        "plt.xticks(range(0,df.shape[0],500),df['date'].loc[::500],rotation=45)\n",
        "plt.plot(stk_data['close'])"
      ],
      "execution_count": null,
      "outputs": [
        {
          "output_type": "execute_result",
          "data": {
            "text/plain": [
              "[<matplotlib.lines.Line2D at 0x7fe9cd8fcc90>]"
            ]
          },
          "metadata": {
            "tags": []
          },
          "execution_count": 76
        },
        {
          "output_type": "display_data",
          "data": {
            "image/png": "[encoded data removed]",
            "text/plain": [
              "<Figure size 720x360 with 1 Axes>"
            ]
          },
          "metadata": {
            "tags": []
          }
        }
      ]
    },
    {
      "cell_type": "code",
      "metadata": {
        "colab": {
          "base_uri": "https://localhost:8080/",
          "height": 298
        },
        "id": "8uSFqtqd_5Am",
        "outputId": "2c23518e-fc42-4b28-8117-1109b0c6ee02"
      },
      "source": [
        "close_stk_values = np.array([stk_norm_data[i, 3] for i in range(len(stk_data))])\n",
        "plt.figure(figsize = (10,4))\n",
        "plt.plot(close_stk_values)\n",
        "plt.title(\"stock close values\")"
      ],
      "execution_count": null,
      "outputs": [
        {
          "output_type": "execute_result",
          "data": {
            "text/plain": [
              "Text(0.5, 1.0, 'stock close values')"
            ]
          },
          "metadata": {
            "tags": []
          },
          "execution_count": 77
        },
        {
          "output_type": "display_data",
          "data": {
            "image/png": "[encoded data removed]",
            "text/plain": [
              "<Figure size 720x288 with 1 Axes>"
            ]
          },
          "metadata": {
            "tags": []
          }
        }
      ]
    },
    {
      "cell_type": "markdown",
      "metadata": {
        "id": "-GW4txBk_5An"
      },
      "source": [
        "# <font size = 2> Note: Here data is plotted in correct manner in sequence. We consider this as the final sequence."
      ]
    },
    {
      "cell_type": "code",
      "metadata": {
        "colab": {
          "base_uri": "https://localhost:8080/"
        },
        "id": "e4bjP_nW_5An",
        "outputId": "0103dbed-4b43-41c0-cfb7-ef7c6d6e9de7"
      },
      "source": [
        "print(np.shape(stk_norm_data))\n",
        "print(stk_norm_data[0])"
      ],
      "execution_count": null,
      "outputs": [
        {
          "output_type": "stream",
          "text": [
            "(3973, 4)\n",
            "[0.31170964 0.30976486 0.31461602 0.31263278]\n"
          ],
          "name": "stdout"
        }
      ]
    },
    {
      "cell_type": "code",
      "metadata": {
        "id": "qS_8rQFm_5A3"
      },
      "source": [
        "# data preparation for LSTM.\n",
        "# since we are using LSTM we need to look at timesteps (here we choose it to be 10)\n",
        "# shape of input must be in the form of (no. of samples, time steps, length, width, channels)--> (3973-10+1, 10, 4, 1, 1)\n",
        "def batch_collect1(stk_norm_data, time_steps):\n",
        "    num_samples = len(stk_norm_data) - time_steps + 1 - 5\n",
        "    data_samples = np.zeros((1,10,4), dtype = float)\n",
        "    data_preds = np.zeros((1,5,1), dtype = float)\n",
        "    for i in range(num_samples):\n",
        "        strt_ind = i\n",
        "        end_ind = i + 10\n",
        "        x = stk_norm_data[strt_ind,:].reshape(1,4)\n",
        "        y = stk_norm_data[end_ind][0].reshape(1,1)\n",
        "        for j in range(strt_ind+1, end_ind):\n",
        "            x = np.vstack((x, stk_norm_data[j,:].reshape(1,4)))\n",
        "        for k in range(end_ind+1, end_ind + 5):\n",
        "            y = np.vstack((y, stk_norm_data[k][0].reshape(1,1)))\n",
        "        data_samples = np.vstack((data_samples, x.reshape(1,10,4)))\n",
        "        data_preds = np.vstack((data_preds, y.reshape(1,5,1)))\n",
        "    return data_samples, data_preds"
      ],
      "execution_count": null,
      "outputs": []
    },
    {
      "cell_type": "code",
      "metadata": {
        "id": "RHtsy36P_5A4",
        "scrolled": true
      },
      "source": [
        "total_data1, total_labels1 = batch_collect1(stk_norm_data, 10)"
      ],
      "execution_count": null,
      "outputs": []
    },
    {
      "cell_type": "code",
      "metadata": {
        "colab": {
          "base_uri": "https://localhost:8080/"
        },
        "id": "h9h6eNF6_5A4",
        "outputId": "1a02c56c-facb-4e06-b0eb-d3a4c709906e"
      },
      "source": [
        "total_data1.shape,total_labels1.shape"
      ],
      "execution_count": null,
      "outputs": [
        {
          "output_type": "execute_result",
          "data": {
            "text/plain": [
              "((3960, 10, 4), (3960, 5, 1))"
            ]
          },
          "metadata": {
            "tags": []
          },
          "execution_count": 82
        }
      ]
    },
    {
      "cell_type": "markdown",
      "metadata": {
        "id": "box_-5WL_5A5"
      },
      "source": [
        "# <font size = 3> LSTM for prediction of forecoming 10th to 15th day stock openings:"
      ]
    },
    {
      "cell_type": "code",
      "metadata": {
        "id": "mxB7xx_v_5A6"
      },
      "source": [
        "import keras\n",
        "import tensorflow as tf\n",
        "from tensorflow.keras.models import Model\n",
        "from tensorflow.keras.layers import Conv2D, Input, TimeDistributed\n",
        "from tensorflow.keras.layers import Flatten, Dense, Activation, LSTM\n",
        "from keras.utils import np_utils"
      ],
      "execution_count": null,
      "outputs": []
    },
    {
      "cell_type": "code",
      "metadata": {
        "colab": {
          "base_uri": "https://localhost:8080/"
        },
        "id": "cwCTW-x3_5A7",
        "outputId": "378829f3-4f56-4b8a-d981-632d67fc8211"
      },
      "source": [
        "lstm_output_size = 5\n",
        "model = tf.keras.models.Sequential()\n",
        "inputs = tf.keras.Input(shape = (10,4))\n",
        "# ConvLayer1 = tf.keras.layers.Conv2D(2, kernel_size = (2,20), activation = 'relu', input_shape = (3,2,250,1), data_format = 'channels_last',name = 'ConvLayer1')\n",
        "# lstmConv = tf.keras.layers.TimeDistributed(ConvLayer1, name = 'ConvLSTM')(inputs)\n",
        "# FlattenLayer = tf.keras.layers.Flatten(name = 'FlattenLayer')\n",
        "# lstmFlatten = tf.keras.layers.TimeDistributed(FlattenLayer, name = 'FlattenLSTM')(FlattenLayer)\n",
        "# FlatOp = tf.keras.layers.TimeDistributed(FlattenLayer, name = 'lstmFlatten')(lstmConv)\n",
        "lstmOp= tf.keras.layers.LSTM(lstm_output_size, return_sequences = False, name = 'LSTM_layer')(inputs) \n",
        "predictions = tf.keras.layers.Dense(5, activation = 'relu', name = 'FullyConnectedLayer')(lstmOp)\n",
        "model = tf.keras.models.Model(inputs=inputs, outputs=predictions)\n",
        "\n",
        "model.compile(loss='mean_squared_error',\n",
        "              optimizer='adam')\n",
        "model.summary()"
      ],
      "execution_count": null,
      "outputs": [
        {
          "output_type": "stream",
          "text": [
            "Model: \"model_2\"\n",
            "_________________________________________________________________\n",
            "Layer (type)                 Output Shape              Param #   \n",
            "=================================================================\n",
            "input_3 (InputLayer)         [(None, 10, 4)]           0         \n",
            "_________________________________________________________________\n",
            "LSTM_layer (LSTM)            (None, 5)                 200       \n",
            "_________________________________________________________________\n",
            "FullyConnectedLayer (Dense)  (None, 5)                 30        \n",
            "=================================================================\n",
            "Total params: 230\n",
            "Trainable params: 230\n",
            "Non-trainable params: 0\n",
            "_________________________________________________________________\n"
          ],
          "name": "stdout"
        }
      ]
    },
    {
      "cell_type": "code",
      "metadata": {
        "id": "8j8NNZuy_5A8"
      },
      "source": [
        "x_train, x_test = total_data1[1:3000], total_data1[3000:]\n",
        "y_train, y_test = total_labels1[1:3000], total_labels1[3000:] "
      ],
      "execution_count": null,
      "outputs": []
    },
    {
      "cell_type": "code",
      "metadata": {
        "colab": {
          "base_uri": "https://localhost:8080/"
        },
        "id": "w_zcyF56_5A9",
        "scrolled": true,
        "outputId": "ef61748d-eded-426e-bea0-9f2d19eebf56"
      },
      "source": [
        "history = model.fit(x_train, y_train, epochs = 5, batch_size = 50, verbose = True)"
      ],
      "execution_count": null,
      "outputs": [
        {
          "output_type": "stream",
          "text": [
            "Epoch 1/5\n",
            "60/60 [==============================] - 2s 5ms/step - loss: 0.0668\n",
            "Epoch 2/5\n",
            "60/60 [==============================] - 0s 5ms/step - loss: 0.0513\n",
            "Epoch 3/5\n",
            "60/60 [==============================] - 0s 5ms/step - loss: 0.0339\n",
            "Epoch 4/5\n",
            "60/60 [==============================] - 0s 5ms/step - loss: 0.0064\n",
            "Epoch 5/5\n",
            "60/60 [==============================] - 0s 4ms/step - loss: 0.0025\n"
          ],
          "name": "stdout"
        }
      ]
    },
    {
      "cell_type": "code",
      "metadata": {
        "colab": {
          "base_uri": "https://localhost:8080/"
        },
        "id": "yQI16PX7_5A9",
        "outputId": "a9207bf0-4f44-4d3f-c0dd-25843ef0cf08"
      },
      "source": [
        "y_train_pred1 = model.predict(x_train)\n",
        "y_train_pred1[0]"
      ],
      "execution_count": null,
      "outputs": [
        {
          "output_type": "execute_result",
          "data": {
            "text/plain": [
              "array([0.3118158, 0.3123982, 0.3261188, 0.3430835, 0.2972015],\n",
              "      dtype=float32)"
            ]
          },
          "metadata": {
            "tags": []
          },
          "execution_count": 87
        }
      ]
    },
    {
      "cell_type": "code",
      "metadata": {
        "colab": {
          "base_uri": "https://localhost:8080/"
        },
        "id": "nKzxfaZlBWQm",
        "outputId": "2aff0bc9-eca6-403b-b9cd-79917ac1b51b"
      },
      "source": [
        "y_train_pred1"
      ],
      "execution_count": null,
      "outputs": [
        {
          "output_type": "execute_result",
          "data": {
            "text/plain": [
              "array([[0.3118158 , 0.3123982 , 0.3261188 , 0.3430835 , 0.2972015 ],\n",
              "       [0.31643164, 0.31695402, 0.3300444 , 0.34743392, 0.30223668],\n",
              "       [0.31693605, 0.3183745 , 0.33225936, 0.34935045, 0.30456308],\n",
              "       ...,\n",
              "       [0.04657076, 0.01289435, 0.12033175, 0.05455455, 0.        ],\n",
              "       [0.04715326, 0.013207  , 0.12066748, 0.05451025, 0.        ],\n",
              "       [0.04695953, 0.01302103, 0.1206068 , 0.05445531, 0.        ]],\n",
              "      dtype=float32)"
            ]
          },
          "metadata": {
            "tags": []
          },
          "execution_count": 88
        }
      ]
    },
    {
      "cell_type": "code",
      "metadata": {
        "colab": {
          "base_uri": "https://localhost:8080/",
          "height": 282
        },
        "id": "6cIJE79u_5A-",
        "outputId": "9ab63fd6-663d-4e86-a31a-d2269c7a3e8c"
      },
      "source": [
        "y_train_pred = model.predict(x_train)\n",
        "train_pred=[y_train_pred[i][0] for i in range(len(y_train_pred))]\n",
        "train=[y_train[i][0] for i in range(len(y_train_pred))]\n",
        "plt.figure(figsize = (10,4))\n",
        "plt.plot(train, label = \"actual\")\n",
        "plt.plot(train_pred, label = \"predicted\")"
      ],
      "execution_count": null,
      "outputs": [
        {
          "output_type": "execute_result",
          "data": {
            "text/plain": [
              "[<matplotlib.lines.Line2D at 0x7fe9cc25f710>]"
            ]
          },
          "metadata": {
            "tags": []
          },
          "execution_count": 89
        },
        {
          "output_type": "display_data",
          "data": {
            "image/png": "[encoded data removed]",
            "text/plain": [
              "<Figure size 720x288 with 1 Axes>"
            ]
          },
          "metadata": {
            "tags": []
          }
        }
      ]
    },
    {
      "cell_type": "code",
      "metadata": {
        "colab": {
          "base_uri": "https://localhost:8080/",
          "height": 282
        },
        "id": "6j3Kbzjq_5A_",
        "outputId": "5f73d30d-13f1-4ce7-83eb-264f1d86d47b"
      },
      "source": [
        "y_test_pred = model.predict(x_test)\n",
        "t_pred=[y_test_pred[i][0] for i in range(len(y_test_pred))]\n",
        "test=[y_test[i][0] for i in range(len(y_test_pred))]\n",
        "plt.figure(figsize = (10,4))\n",
        "plt.plot(test, 'b-')\n",
        "plt.plot(t_pred, 'g--')"
      ],
      "execution_count": null,
      "outputs": [
        {
          "output_type": "execute_result",
          "data": {
            "text/plain": [
              "[<matplotlib.lines.Line2D at 0x7fe9cb8f9110>]"
            ]
          },
          "metadata": {
            "tags": []
          },
          "execution_count": 90
        },
        {
          "output_type": "display_data",
          "data": {
            "image/png": "[encoded data removed]",
            "text/plain": [
              "<Figure size 720x288 with 1 Axes>"
            ]
          },
          "metadata": {
            "tags": []
          }
        }
      ]
    },
    {
      "cell_type": "code",
      "metadata": {
        "id": "BQ0RyDbZ_5A_"
      },
      "source": [
        "y_test_pred=pd.DataFrame(y_test_pred )\n",
        "y_test=pd.DataFrame(y_test)\n",
        "df_polarity_pred = pd.DataFrame()\n",
        "df_polarity_test = pd.DataFrame()\n",
        "for i in range(y_test_pred.shape[1]-1):\n",
        "  df_polarity_pred[str(i)]=(y_test_pred[i]-y_test_pred[i+1])\n",
        "  df_polarity_test[str(i)]=(y_test[i]-y_test[i+1])\n"
      ],
      "execution_count": null,
      "outputs": []
    },
    {
      "cell_type": "code",
      "metadata": {
        "id": "GfOWGxdL_5BC"
      },
      "source": [
        "for i in df_polarity.columns:\n",
        "  df_polarity_pred[i]=df_polarity_pred[i].apply(lambda x: 1 if(x>=0) else -1)\n",
        "  df_polarity_test[i]=df_polarity_test[i].apply(lambda x: 1 if(x>=0) else -1)"
      ],
      "execution_count": null,
      "outputs": []
    },
    {
      "cell_type": "code",
      "metadata": {
        "colab": {
          "background_save": true
        },
        "id": "fnC8TsFU_5BH",
        "outputId": "1cb804ab-f5de-48a3-c4f3-efdacbe6c80c"
      },
      "source": [
        "    for idx, _tag in enumerate(df_polarity_pred):\n",
        "            tag_precision = metrics.precision_score(\n",
        "                test_labels.values[:, idx], [:, idx],zero_division=0\n",
        "            )\n",
        "            tag_recall = metrics.recall_score(\n",
        "                test_labels.values[:, idx], predicted[:, idx],zero_division=0\n",
        "            )\n",
        "            \n",
        "           \n",
        "            print(f\"Tag: {_tag}\")\n",
        "            print(\n",
        "                f\"Precision: {tag_precision:.2f}.\"\n",
        "                f\" Recall: {tag_recall:.2f}\"\n",
        "            )"
      ],
      "execution_count": null,
      "outputs": [
        {
          "output_type": "error",
          "ename": "NameError",
          "evalue": "ignored",
          "traceback": [
            "\u001b[0;31m---------------------------------------------------------------------------\u001b[0m",
            "\u001b[0;31mNameError\u001b[0m                                 Traceback (most recent call last)",
            "\u001b[0;32m<ipython-input-116-c1ad80f0536b>\u001b[0m in \u001b[0;36m<module>\u001b[0;34m()\u001b[0m\n\u001b[1;32m      1\u001b[0m \u001b[0;32mfor\u001b[0m \u001b[0midx\u001b[0m\u001b[0;34m,\u001b[0m \u001b[0m_tag\u001b[0m \u001b[0;32min\u001b[0m \u001b[0menumerate\u001b[0m\u001b[0;34m(\u001b[0m\u001b[0mdf_polarity_pred\u001b[0m\u001b[0;34m)\u001b[0m\u001b[0;34m:\u001b[0m\u001b[0;34m\u001b[0m\u001b[0;34m\u001b[0m\u001b[0m\n\u001b[0;32m----> 2\u001b[0;31m         tag_precision = metrics.precision_score(\n\u001b[0m\u001b[1;32m      3\u001b[0m             \u001b[0mdf_polarity_test\u001b[0m\u001b[0;34m[\u001b[0m\u001b[0;34m:\u001b[0m\u001b[0;34m,\u001b[0m \u001b[0midx\u001b[0m\u001b[0;34m]\u001b[0m\u001b[0;34m,\u001b[0m \u001b[0mdf_polarity_pred\u001b[0m\u001b[0;34m[\u001b[0m\u001b[0;34m:\u001b[0m\u001b[0;34m,\u001b[0m \u001b[0midx\u001b[0m\u001b[0;34m]\u001b[0m\u001b[0;34m,\u001b[0m\u001b[0mzero_division\u001b[0m\u001b[0;34m=\u001b[0m\u001b[0;36m0\u001b[0m\u001b[0;34m\u001b[0m\u001b[0;34m\u001b[0m\u001b[0m\n\u001b[1;32m      4\u001b[0m         )\n\u001b[1;32m      5\u001b[0m         tag_recall = metrics.recall_score(\n",
            "\u001b[0;31mNameError\u001b[0m: name 'metrics' is not defined"
          ]
        }
      ]
    }
  ]
}